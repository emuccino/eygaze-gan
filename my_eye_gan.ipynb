{
 "cells": [
  {
   "cell_type": "markdown",
   "metadata": {
    "_cell_guid": "eb961520-81e7-da2c-5fa7-852f98749f3e",
    "_uuid": "6e04475afe309ae61a089b0add4ce93a07a24fd0"
   },
   "source": [
    "# Introduction\n",
    "## Overview\n",
    "The notebook applies the [SimGAN](https://arxiv.org/pdf/1612.07828v1.pdf) network architecture to the problem of generating realistic images of eyes by using real images to augment the simulated data. We use Keras with a Tensorflow-backend to accomplish the adversarial training. \n",
    "### Note \n",
    "The model is quite small and the training is tuned down substantially since the limits of Kaggle Kernels and the lack of GPU makes the training very slow"
   ]
  },
  {
   "cell_type": "code",
   "execution_count": 1,
   "metadata": {
    "_cell_guid": "bb0b3648-a55b-e9dd-7396-97fbedf4a3c0",
    "_uuid": "0c164fa63ac85b4710856368b990b7d25ac04b07"
   },
   "outputs": [
    {
     "name": "stderr",
     "output_type": "stream",
     "text": [
      "C:\\Users\\Eric\\AppData\\Local\\conda\\conda\\envs\\tensorflow\\lib\\site-packages\\h5py\\__init__.py:36: FutureWarning: Conversion of the second argument of issubdtype from `float` to `np.floating` is deprecated. In future, it will be treated as `np.float64 == np.dtype(float).type`.\n",
      "  from ._conv import register_converters as _register_converters\n",
      "Using Theano backend.\n",
      "WARNING (theano.configdefaults): g++ not available, if using conda: `conda install m2w64-toolchain`\n",
      "C:\\Users\\Eric\\AppData\\Local\\conda\\conda\\envs\\tensorflow\\lib\\site-packages\\theano\\configdefaults.py:560: UserWarning: DeprecationWarning: there is no c++ compiler.This is deprecated and with Theano 0.11 a c++ compiler will be mandatory\n",
      "  warnings.warn(\"DeprecationWarning: there is no c++ compiler.\"\n",
      "WARNING (theano.configdefaults): g++ not detected ! Theano will be unable to execute optimized C-implementations (for both CPU and GPU) and will default to Python implementations. Performance will be severely degraded. To remove this warning, set Theano flags cxx to an empty string.\n",
      "WARNING (theano.configdefaults): install mkl with `conda install mkl-service`: No module named 'mkl'\n",
      "WARNING (theano.tensor.blas): Using NumPy C-API based implementation for BLAS functions.\n"
     ]
    }
   ],
   "source": [
    "import os\n",
    "import sys\n",
    "import keras\n",
    "from keras import applications\n",
    "from keras import layers\n",
    "from keras import models\n",
    "from keras import optimizers\n",
    "from keras.preprocessing import image\n",
    "import h5py\n",
    "import numpy as np\n",
    "import tensorflow as tf\n",
    "import matplotlib\n",
    "import matplotlib.pyplot as plt\n",
    "import matplotlib.image as mpimg"
   ]
  },
  {
   "cell_type": "code",
   "execution_count": 2,
   "metadata": {
    "_cell_guid": "d395fcbf-7846-00df-e949-728c55e5528b",
    "_uuid": "2b110aa74c6f5c32e251975517fcb6cec1e0a8f5"
   },
   "outputs": [
    {
     "name": "stdout",
     "output_type": "stream",
     "text": [
      "tf-version 1.4.0 keras-version 2.1.5\n"
     ]
    }
   ],
   "source": [
    "print('tf-version',tf.__version__, 'keras-version', keras.__version__)"
   ]
  },
  {
   "cell_type": "markdown",
   "metadata": {
    "_cell_guid": "de81853c-aaff-d745-0f05-57c6d89a1038",
    "_uuid": "162e391ead020b94a1408f94519ba5e01f612bba"
   },
   "source": [
    "## Loading Data\n",
    "Here we setup the paths and load the data from the hdf5 files since there would otherwise be too many individual jpg/png images"
   ]
  },
  {
   "cell_type": "code",
   "execution_count": 3,
   "metadata": {
    "_cell_guid": "c4d71194-04e2-49f0-ad43-d4297fccf7b2",
    "_uuid": "0067d1aa9ee84d63627f5aea8069d467442d52b3"
   },
   "outputs": [
    {
     "name": "stdout",
     "output_type": "stream",
     "text": [
      "['image', 'look_vec', 'path']\n",
      "Synthetic images found: 50000\n",
      "image ..\\..\\..\\..\\Downloads\\UnityEyes_Windows\\UnityEyes_Windows\\imgs\\1.jpg shape: (35, 55)\n",
      "['image']\n",
      "Real Images found: 34100\n",
      "image ..\\data\\MPIIGaze_Dataset\\000055ed-890a-411f-be6e-b8453b495389.png shape: (35, 55)\n"
     ]
    }
   ],
   "source": [
    "%matplotlib inline\n",
    "path = os.path.dirname(os.path.abspath('.'))\n",
    "data_dir = os.path.join('..', 'input')\n",
    "cache_dir = '.'\n",
    "\n",
    "# load the data file and extract dimensions\n",
    "with h5py.File(os.path.join(data_dir,'gaze.h5'),'r') as t_file:\n",
    "    print(list(t_file.keys()))\n",
    "    assert 'image' in t_file, \"Images are missing\"\n",
    "    assert 'look_vec' in t_file, \"Look vector is missing\"\n",
    "    assert 'path' in t_file, \"Paths are missing\"\n",
    "    print('Synthetic images found:',len(t_file['image']))\n",
    "    for _, (ikey, ival) in zip(range(1), t_file['image'].items()):\n",
    "        print('image',ikey,'shape:',ival.shape)\n",
    "        img_height, img_width = ival.shape\n",
    "        img_channels = 1\n",
    "    syn_image_stack = np.stack([np.expand_dims(a,-1) for a in t_file['image'].values()],0)\n",
    "\n",
    "with h5py.File(os.path.join(data_dir,'real_gaze.h5'),'r') as t_file:\n",
    "    print(list(t_file.keys()))\n",
    "    assert 'image' in t_file, \"Images are missing\"\n",
    "    print('Real Images found:',len(t_file['image']))\n",
    "    for _, (ikey, ival) in zip(range(1), t_file['image'].items()):\n",
    "        print('image',ikey,'shape:',ival.shape)\n",
    "        img_height, img_width = ival.shape\n",
    "        img_channels = 1\n",
    "    real_image_stack = np.stack([np.expand_dims(a,-1) for a in t_file['image'].values()],0)\n",
    "\n",
    "#\n",
    "# training params\n",
    "#\n",
    "\n",
    "nb_steps = 20 # originally 10000, but this makes the kernel time out\n",
    "batch_size = 49\n",
    "k_d = 1  # number of discriminator updates per step\n",
    "k_g = 2  # number of generative network updates per step\n",
    "log_interval = 100\n",
    "pre_steps = 15 # for pretraining"
   ]
  },
  {
   "cell_type": "code",
   "execution_count": 4,
   "metadata": {},
   "outputs": [
    {
     "data": {
      "image/png": "[encoded data removed]",
      "text/plain": [
       "<Figure size 432x288 with 1 Axes>"
      ]
     },
     "metadata": {},
     "output_type": "display_data"
    }
   ],
   "source": [
    "%matplotlib inline\n",
    "plt.imshow(real_image_stack[1223,:,:,0])\n",
    "plt.show()"
   ]
  },
  {
   "cell_type": "code",
   "execution_count": 5,
   "metadata": {
    "collapsed": true
   },
   "outputs": [],
   "source": [
    "tf.reset_default_graph()"
   ]
  },
  {
   "cell_type": "markdown",
   "metadata": {
    "_cell_guid": "4881321d-64f8-fe2a-d8bb-1c74500754a4",
    "_uuid": "a9920b7572ca4db9fb90d68dae6575043cf655a5"
   },
   "source": [
    "## Utility Functions\n",
    "These functions make it a bit easier to keep track of how the training is going and make it "
   ]
  },
  {
   "cell_type": "code",
   "execution_count": 6,
   "metadata": {},
   "outputs": [],
   "source": [
    "real_image_inputs = real_image_stack[:,:,:,0].reshape(len(real_image_stack),1925)/256\n",
    "syn_image_inputs = syn_image_stack[:,:,:,0].reshape(len(syn_image_stack),1925)/256\n",
    "\n",
    "def norm(x):\n",
    "    return (x-0.5)/0.28\n",
    "\n",
    "def display_images(images):\n",
    "    for i in range(images.shape[0]):\n",
    "        plt.subplot(8, 1, i + 1,figsize=(35, 55))\n",
    "        plt.imshow(images[i])\n",
    "        plt.axis('off')\n",
    "    plt.tight_layout()\n",
    "    plt.show()"
   ]
  },
  {
   "cell_type": "code",
   "execution_count": 7,
   "metadata": {
    "collapsed": true
   },
   "outputs": [],
   "source": [
    "n_z = 256\n",
    "z_test = np.random.uniform(-1.0,1.0,size=[8,n_z])\n",
    "\n",
    "def display_images(images):\n",
    "    for i in range(images.shape[0]):\n",
    "        plt.subplot(1, 8, i + 1)\n",
    "        plt.imshow(images[i])\n",
    "        plt.axis('off')\n",
    "    plt.tight_layout()\n",
    "    plt.show()\n",
    "\n",
    "g_learning_rate = 0.00001\n",
    "d_learning_rate = 0.000001\n",
    "n_x = 35*55\n",
    "\n",
    "g_n_layers = 3\n",
    "d_n_layers = 1\n",
    "g_n_neurons = [256, 512, 1024]\n",
    "d_n_neurons = [256]\n",
    "\n",
    "d_params = {}\n",
    "g_params = {}\n",
    "\n",
    "activation = tf.nn.leaky_relu\n",
    "w_initializer = tf.glorot_uniform_initializer\n",
    "b_initializer = tf.zeros_initializer"
   ]
  },
  {
   "cell_type": "code",
   "execution_count": 8,
   "metadata": {},
   "outputs": [],
   "source": [
    "z_p = tf.placeholder(dtype=tf.float32, name='z_p', shape=[None, n_z])\n",
    "layer = z_p\n",
    "\n",
    "with tf.variable_scope('g'):\n",
    "    for i in range(0, g_n_layers):\n",
    "        w_name = 'w_{0:04d}'.format(i)\n",
    "        g_params[w_name] = tf.get_variable(\n",
    "            name=w_name,\n",
    "            shape=[n_z if i == 0 else g_n_neurons[i - 1], g_n_neurons[i]],\n",
    "            initializer=w_initializer())\n",
    "\n",
    "        b_name = 'b_{0:04d}'.format(i)\n",
    "        g_params[b_name] = tf.get_variable(\n",
    "            name=b_name, shape=[g_n_neurons[i]], initializer=b_initializer())\n",
    "\n",
    "        layer = activation(\n",
    "            tf.matmul(layer, g_params[w_name]) + g_params[b_name])\n",
    "\n",
    "    #output (logit) layer\n",
    "    i = g_n_layers\n",
    "    w_name = 'w_{0:04d}'.format(i)\n",
    "    g_params[w_name] = tf.get_variable(\n",
    "        name=w_name,\n",
    "        shape=[g_n_neurons[i - 1], n_x],\n",
    "        initializer=w_initializer())\n",
    "\n",
    "    b_name = 'b_{0:04d}'.format(i)\n",
    "    g_params[b_name] = tf.get_variable(\n",
    "        name=b_name, shape=[n_x], initializer=b_initializer())\n",
    "\n",
    "    g_logit = tf.matmul(layer, g_params[w_name]) + g_params[b_name]\n",
    "    g_model = tf.nn.tanh(g_logit)"
   ]
  },
  {
   "cell_type": "code",
   "execution_count": 9,
   "metadata": {
    "collapsed": true
   },
   "outputs": [],
   "source": [
    "with tf.variable_scope('d'):\n",
    "    for i in range(0, d_n_layers):\n",
    "        w_name = 'w_{0:04d}'.format(i)\n",
    "        d_params[w_name] = tf.get_variable(\n",
    "            name=w_name,\n",
    "            shape=[n_x if i == 0 else d_n_neurons[i - 1], d_n_neurons[i]],\n",
    "            initializer=w_initializer())\n",
    "\n",
    "        b_name = 'b_{0:04d}'.format(i)\n",
    "        d_params[b_name] = tf.get_variable(\n",
    "            name=b_name, shape=[d_n_neurons[i]], initializer=b_initializer())\n",
    "\n",
    "    #output (logit) layer\n",
    "    i = d_n_layers\n",
    "    w_name = 'w_{0:04d}'.format(i)\n",
    "    d_params[w_name] = tf.get_variable(\n",
    "        name=w_name, shape=[d_n_neurons[i - 1], 1], initializer=w_initializer())\n",
    "\n",
    "    b_name = 'b_{0:04d}'.format(i)\n",
    "    d_params[b_name] = tf.get_variable(\n",
    "        name=b_name, shape=[1], initializer=b_initializer())"
   ]
  },
  {
   "cell_type": "code",
   "execution_count": 10,
   "metadata": {},
   "outputs": [],
   "source": [
    "x_p = tf.placeholder(dtype=tf.float32, name='x_p', shape=[None, n_x])\n",
    "\n",
    "layer = x_p\n",
    "\n",
    "with tf.variable_scope('d'):\n",
    "    for i in range(0, d_n_layers):\n",
    "        w_name = 'w_{0:04d}'.format(i)\n",
    "        b_name = 'b_{0:04d}'.format(i)\n",
    "\n",
    "        layer = activation(\n",
    "            tf.matmul(layer, d_params[w_name]) + d_params[b_name])\n",
    "        layer = tf.nn.dropout(layer,0.7)\n",
    "    #output (logit) layer\n",
    "    i = d_n_layers\n",
    "    w_name = 'w_{0:04d}'.format(i)\n",
    "    b_name = 'b_{0:04d}'.format(i)\n",
    "    d_logit_real = tf.matmul(layer, d_params[w_name]) + d_params[b_name]\n",
    "    d_model_real = tf.nn.sigmoid(d_logit_real)"
   ]
  },
  {
   "cell_type": "code",
   "execution_count": 11,
   "metadata": {
    "collapsed": true
   },
   "outputs": [],
   "source": [
    "z = g_model\n",
    "\n",
    "layer = z\n",
    "\n",
    "with tf.variable_scope('d'):\n",
    "    for i in range(0, d_n_layers):\n",
    "        w_name = 'w_{0:04d}'.format(i)\n",
    "        b_name = 'b_{0:04d}'.format(i)\n",
    "\n",
    "        layer = activation(\n",
    "            tf.matmul(layer, d_params[w_name]) + d_params[b_name])\n",
    "        layer = tf.nn.dropout(layer,0.7)\n",
    "    #output (logit) layer\n",
    "    i = d_n_layers\n",
    "    w_name = 'w_{0:04d}'.format(i)\n",
    "    b_name = 'b_{0:04d}'.format(i)\n",
    "\n",
    "    d_logit_fake = tf.matmul(layer, d_params[w_name]) + d_params[b_name]\n",
    "    d_model_fake = tf.nn.sigmoid(d_logit_fake)"
   ]
  },
  {
   "cell_type": "code",
   "execution_count": 12,
   "metadata": {
    "collapsed": true
   },
   "outputs": [],
   "source": [
    "g_loss = -tf.reduce_mean(tf.log(d_model_fake))\n",
    "d_loss = -tf.reduce_mean(tf.log(d_model_real) + tf.log(1 - d_model_fake))\n",
    "g_loss_summary = tf.summary.scalar('g_loss', g_loss)\n",
    "d_loss_summary = tf.summary.scalar('d_loss', d_loss)\n",
    "\n",
    "g_optimizer = tf.train.AdamOptimizer(g_learning_rate)\n",
    "d_optimizer = tf.train.GradientDescentOptimizer(d_learning_rate)\n",
    "\n",
    "g_train_op = g_optimizer.minimize(g_loss, var_list=list(g_params.values()))\n",
    "d_train_op = d_optimizer.minimize(d_loss, var_list=list(d_params.values()))"
   ]
  },
  {
   "cell_type": "code",
   "execution_count": 13,
   "metadata": {
    "collapsed": true
   },
   "outputs": [],
   "source": [
    "from datetime import datetime\n",
    "\n",
    "def log_dir(prefix=\"\"):\n",
    "    now = datetime.utcnow().strftime(\"%Y%m%d%H%M%S\")\n",
    "    root_logdir = \"tf_logs\"\n",
    "    if prefix:\n",
    "        prefix += \"-\"\n",
    "    name = prefix + \"run-\" + now\n",
    "    return \"{}/{}/\".format(root_logdir, name)\n",
    "\n",
    "logdir = log_dir(\"eye_gan\")\n",
    "file_writer = tf.summary.FileWriter(logdir, tf.get_default_graph())\n",
    "\n",
    "version = '6'\n",
    "checkpoint_path = \"/tmp/eye_gan\"+version+\".ckpt\"\n",
    "checkpoint_epoch_path = checkpoint_path + \".epoch\"\n",
    "final_model_path = \"./eye_gan\"+version\n",
    "\n",
    "init = tf.global_variables_initializer()\n",
    "saver = tf.train.Saver()"
   ]
  },
  {
   "cell_type": "code",
   "execution_count": null,
   "metadata": {},
   "outputs": [
    {
     "name": "stdout",
     "output_type": "stream",
     "text": [
      "0\n",
      "epoch: 0000   d_loss = 4.806268  g_loss = 0.077588\n"
     ]
    },
    {
     "data": {
      "image/png": "[encoded data removed]",
      "text/plain": [
       "<Figure size 432x288 with 8 Axes>"
      ]
     },
     "metadata": {},
     "output_type": "display_data"
    },
    {
     "name": "stdout",
     "output_type": "stream",
     "text": [
      "1\n"
     ]
    }
   ],
   "source": [
    "n_epochs = 300\n",
    "batch_size = 100\n",
    "n_batches = int(len(real_image_inputs) / batch_size)\n",
    "best_loss = np.infty\n",
    "epochs_without_progress = 0\n",
    "max_epochs_without_progress = 100\n",
    "\n",
    "n_epochs_print = 5\n",
    "\n",
    "with tf.Session() as sess:\n",
    "    if os.path.isfile(checkpoint_epoch_path):\n",
    "        with open(checkpoint_epoch_path, \"rb\") as f:\n",
    "            start_epoch = int(f.read())\n",
    "        print(\"Training was interrupted. Continuing at epoch\", start_epoch)\n",
    "        saver.restore(sess, checkpoint_path)\n",
    "    else:\n",
    "        start_epoch = 0\n",
    "        sess.run(init)\n",
    "    \n",
    "    for epoch in range(n_epochs+1):\n",
    "        print(epoch)\n",
    "        epoch_d_loss = 0.0\n",
    "        epoch_g_loss = 0.0\n",
    "        for batch in range(n_batches):\n",
    "            x_batch = real_image_inputs[batch*batch_size:(batch+1)*batch_size,:]\n",
    "            x_batch = norm(x_batch)\n",
    "            z_batch = np.random.uniform(-1.0,1.0,size=[batch_size,n_z])\n",
    "            feed_dict = {x_p: x_batch,z_p: z_batch}\n",
    "            _,batch_d_loss,d_loss_summary_str = sess.run([d_train_op,d_loss,d_loss_summary], feed_dict=feed_dict)\n",
    "            file_writer.add_summary(d_loss_summary_str, epoch)\n",
    "            \n",
    "            z_batch = np.random.uniform(-1.0,1.0,size=[batch_size,n_z])\n",
    "            feed_dict={z_p: z_batch}\n",
    "            _,batch_g_loss,g_loss_summary_str = sess.run([g_train_op,g_loss,g_loss_summary], feed_dict=feed_dict)\n",
    "            file_writer.add_summary(g_loss_summary_str, epoch)\n",
    "            \n",
    "            epoch_d_loss += batch_d_loss \n",
    "            epoch_g_loss += batch_g_loss\n",
    "        saver.save(sess, checkpoint_path)\n",
    "\n",
    "        if epoch%n_epochs_print == 0:\n",
    "            average_d_loss = epoch_d_loss / n_batches\n",
    "            average_g_loss = epoch_g_loss / n_batches\n",
    "            print('epoch: {0:04d}   d_loss = {1:0.6f}  g_loss = {2:0.6f}'.format(epoch,average_d_loss,average_g_loss))\n",
    "            x_pred = sess.run(g_model,feed_dict={z_p:z_test})\n",
    "            display_images(x_pred.reshape(-1,35,55))\n",
    "\n",
    "            with open(checkpoint_epoch_path, \"wb\") as f:\n",
    "                f.write(b\"%d\" % (epoch + 1))\n",
    "            if batch_g_loss < best_loss:\n",
    "                saver.save(sess, final_model_path)\n",
    "                best_loss = batch_g_loss\n",
    "            else:\n",
    "                epochs_without_progress += n_epochs_print\n",
    "            if epochs_without_progress > max_epochs_without_progress:\n",
    "                print(\"Early stopping\")\n",
    "                break"
   ]
  },
  {
   "cell_type": "code",
   "execution_count": null,
   "metadata": {
    "collapsed": true
   },
   "outputs": [],
   "source": []
  }
 ],
 "metadata": {
  "_change_revision": 0,
  "_is_fork": false,
  "kernelspec": {
   "display_name": "tensorflow",
   "language": "python",
   "name": "tensorflow"
  },
  "language_info": {
   "codemirror_mode": {
    "name": "ipython",
    "version": 3
   },
   "file_extension": ".py",
   "mimetype": "text/x-python",
   "name": "python",
   "nbconvert_exporter": "python",
   "pygments_lexer": "ipython3",
   "version": "3.5.4"
  }
 },
 "nbformat": 4,
 "nbformat_minor": 1
}
